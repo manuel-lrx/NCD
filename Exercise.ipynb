{
    "cells": [
        {
            "cell_type": "markdown",
            "metadata": {},
            "source": "# No Claim Discount Scheme"
        },
        {
            "cell_type": "markdown",
            "metadata": {},
            "source": "## 1. Assumptions"
        },
        {
            "cell_type": "code",
            "execution_count": 56,
            "metadata": {},
            "outputs": [],
            "source": "import pandas as pd\nimport numpy as np\npd.options.display.float_format = '{:,.3f}'.format"
        },
        {
            "cell_type": "code",
            "execution_count": 57,
            "metadata": {},
            "outputs": [],
            "source": "# The code was removed by Watson Studio for sharing."
        },
        {
            "cell_type": "code",
            "execution_count": 58,
            "metadata": {},
            "outputs": [
                {
                    "data": {
                        "text/html": "<div>\n<style scoped>\n    .dataframe tbody tr th:only-of-type {\n        vertical-align: middle;\n    }\n\n    .dataframe tbody tr th {\n        vertical-align: top;\n    }\n\n    .dataframe thead th {\n        text-align: right;\n    }\n</style>\n<table border=\"1\" class=\"dataframe\">\n  <thead>\n    <tr style=\"text-align: right;\">\n      <th></th>\n      <th>band</th>\n      <th>freq</th>\n      <th>sales</th>\n    </tr>\n  </thead>\n  <tbody>\n    <tr>\n      <th>0</th>\n      <td>Very High</td>\n      <td>0.400</td>\n      <td>0.080</td>\n    </tr>\n    <tr>\n      <th>1</th>\n      <td>High</td>\n      <td>0.270</td>\n      <td>0.180</td>\n    </tr>\n    <tr>\n      <th>2</th>\n      <td>Medium</td>\n      <td>0.200</td>\n      <td>0.340</td>\n    </tr>\n    <tr>\n      <th>3</th>\n      <td>Low</td>\n      <td>0.150</td>\n      <td>0.260</td>\n    </tr>\n    <tr>\n      <th>4</th>\n      <td>Very Low</td>\n      <td>0.050</td>\n      <td>0.140</td>\n    </tr>\n  </tbody>\n</table>\n</div>",
                        "text/plain": "        band  freq  sales\n0  Very High 0.400  0.080\n1       High 0.270  0.180\n2     Medium 0.200  0.340\n3        Low 0.150  0.260\n4   Very Low 0.050  0.140"
                    },
                    "execution_count": 58,
                    "metadata": {},
                    "output_type": "execute_result"
                }
            ],
            "source": "body = client_45e1452aa04c45e4a6c774eae7e79e50.get_object(Bucket='application-donotdelete-pr-yxymcavya8mx0j',Key='band.csv')['Body']\nif not hasattr(body, \"__iter__\"): body.__iter__ = types.MethodType( __iter__, body )\nband = pd.read_csv(body, sep=';')\nband"
        },
        {
            "cell_type": "code",
            "execution_count": 59,
            "metadata": {},
            "outputs": [
                {
                    "data": {
                        "text/html": "<div>\n<style scoped>\n    .dataframe tbody tr th:only-of-type {\n        vertical-align: middle;\n    }\n\n    .dataframe tbody tr th {\n        vertical-align: top;\n    }\n\n    .dataframe thead th {\n        text-align: right;\n    }\n</style>\n<table border=\"1\" class=\"dataframe\">\n  <thead>\n    <tr style=\"text-align: right;\">\n      <th></th>\n      <th>month</th>\n      <th>sales</th>\n    </tr>\n  </thead>\n  <tbody>\n    <tr>\n      <th>0</th>\n      <td>January</td>\n      <td>0.120</td>\n    </tr>\n    <tr>\n      <th>1</th>\n      <td>February</td>\n      <td>0.100</td>\n    </tr>\n    <tr>\n      <th>2</th>\n      <td>March</td>\n      <td>0.080</td>\n    </tr>\n    <tr>\n      <th>3</th>\n      <td>April</td>\n      <td>0.080</td>\n    </tr>\n    <tr>\n      <th>4</th>\n      <td>May</td>\n      <td>0.060</td>\n    </tr>\n    <tr>\n      <th>5</th>\n      <td>June</td>\n      <td>0.050</td>\n    </tr>\n    <tr>\n      <th>6</th>\n      <td>July</td>\n      <td>0.050</td>\n    </tr>\n    <tr>\n      <th>7</th>\n      <td>August</td>\n      <td>0.060</td>\n    </tr>\n    <tr>\n      <th>8</th>\n      <td>September</td>\n      <td>0.080</td>\n    </tr>\n    <tr>\n      <th>9</th>\n      <td>October</td>\n      <td>0.120</td>\n    </tr>\n    <tr>\n      <th>10</th>\n      <td>November</td>\n      <td>0.120</td>\n    </tr>\n    <tr>\n      <th>11</th>\n      <td>December</td>\n      <td>0.080</td>\n    </tr>\n  </tbody>\n</table>\n</div>",
                        "text/plain": "        month  sales\n0     January  0.120\n1    February  0.100\n2       March  0.080\n3       April  0.080\n4         May  0.060\n5        June  0.050\n6        July  0.050\n7      August  0.060\n8   September  0.080\n9     October  0.120\n10   November  0.120\n11   December  0.080"
                    },
                    "execution_count": 59,
                    "metadata": {},
                    "output_type": "execute_result"
                }
            ],
            "source": "body = client_45e1452aa04c45e4a6c774eae7e79e50.get_object(Bucket='application-donotdelete-pr-yxymcavya8mx0j',Key='month-sales.csv')['Body']\nif not hasattr(body, \"__iter__\"): body.__iter__ = types.MethodType( __iter__, body )\nsales = pd.read_csv(body, sep=';')\nsales"
        },
        {
            "cell_type": "code",
            "execution_count": 60,
            "metadata": {},
            "outputs": [
                {
                    "data": {
                        "text/html": "<div>\n<style scoped>\n    .dataframe tbody tr th:only-of-type {\n        vertical-align: middle;\n    }\n\n    .dataframe tbody tr th {\n        vertical-align: top;\n    }\n\n    .dataframe thead th {\n        text-align: right;\n    }\n</style>\n<table border=\"1\" class=\"dataframe\">\n  <thead>\n    <tr style=\"text-align: right;\">\n      <th></th>\n      <th>ncd</th>\n      <th>loss</th>\n    </tr>\n  </thead>\n  <tbody>\n    <tr>\n      <th>0</th>\n      <td>0</td>\n      <td>0.350</td>\n    </tr>\n    <tr>\n      <th>1</th>\n      <td>1</td>\n      <td>0.230</td>\n    </tr>\n    <tr>\n      <th>2</th>\n      <td>2</td>\n      <td>0.180</td>\n    </tr>\n    <tr>\n      <th>3</th>\n      <td>3</td>\n      <td>0.150</td>\n    </tr>\n    <tr>\n      <th>4</th>\n      <td>4</td>\n      <td>0.120</td>\n    </tr>\n    <tr>\n      <th>5</th>\n      <td>5</td>\n      <td>0.100</td>\n    </tr>\n    <tr>\n      <th>6</th>\n      <td>6</td>\n      <td>0.090</td>\n    </tr>\n    <tr>\n      <th>7</th>\n      <td>7</td>\n      <td>0.070</td>\n    </tr>\n    <tr>\n      <th>8</th>\n      <td>8</td>\n      <td>0.050</td>\n    </tr>\n    <tr>\n      <th>9</th>\n      <td>9</td>\n      <td>0.030</td>\n    </tr>\n    <tr>\n      <th>10</th>\n      <td>10</td>\n      <td>0.020</td>\n    </tr>\n  </tbody>\n</table>\n</div>",
                        "text/plain": "    ncd  loss\n0     0 0.350\n1     1 0.230\n2     2 0.180\n3     3 0.150\n4     4 0.120\n5     5 0.100\n6     6 0.090\n7     7 0.070\n8     8 0.050\n9     9 0.030\n10   10 0.020"
                    },
                    "execution_count": 60,
                    "metadata": {},
                    "output_type": "execute_result"
                }
            ],
            "source": "body = client_45e1452aa04c45e4a6c774eae7e79e50.get_object(Bucket='application-donotdelete-pr-yxymcavya8mx0j',Key='ncd-loss.csv')['Body']\nif not hasattr(body, \"__iter__\"): body.__iter__ = types.MethodType( __iter__, body )\nloss = pd.read_csv(body, sep=';')\nloss"
        },
        {
            "cell_type": "code",
            "execution_count": 61,
            "metadata": {},
            "outputs": [
                {
                    "data": {
                        "text/html": "<div>\n<style scoped>\n    .dataframe tbody tr th:only-of-type {\n        vertical-align: middle;\n    }\n\n    .dataframe tbody tr th {\n        vertical-align: top;\n    }\n\n    .dataframe thead th {\n        text-align: right;\n    }\n</style>\n<table border=\"1\" class=\"dataframe\">\n  <thead>\n    <tr style=\"text-align: right;\">\n      <th></th>\n      <th>month</th>\n      <th>claims</th>\n    </tr>\n  </thead>\n  <tbody>\n    <tr>\n      <th>0</th>\n      <td>January</td>\n      <td>0.150</td>\n    </tr>\n    <tr>\n      <th>1</th>\n      <td>February</td>\n      <td>0.100</td>\n    </tr>\n    <tr>\n      <th>2</th>\n      <td>March</td>\n      <td>0.070</td>\n    </tr>\n    <tr>\n      <th>3</th>\n      <td>April</td>\n      <td>0.070</td>\n    </tr>\n    <tr>\n      <th>4</th>\n      <td>May</td>\n      <td>0.050</td>\n    </tr>\n    <tr>\n      <th>5</th>\n      <td>June</td>\n      <td>0.030</td>\n    </tr>\n    <tr>\n      <th>6</th>\n      <td>July</td>\n      <td>0.030</td>\n    </tr>\n    <tr>\n      <th>7</th>\n      <td>August</td>\n      <td>0.030</td>\n    </tr>\n    <tr>\n      <th>8</th>\n      <td>September</td>\n      <td>0.050</td>\n    </tr>\n    <tr>\n      <th>9</th>\n      <td>October</td>\n      <td>0.120</td>\n    </tr>\n    <tr>\n      <th>10</th>\n      <td>November</td>\n      <td>0.200</td>\n    </tr>\n    <tr>\n      <th>11</th>\n      <td>December</td>\n      <td>0.100</td>\n    </tr>\n  </tbody>\n</table>\n</div>",
                        "text/plain": "        month  claims\n0     January   0.150\n1    February   0.100\n2       March   0.070\n3       April   0.070\n4         May   0.050\n5        June   0.030\n6        July   0.030\n7      August   0.030\n8   September   0.050\n9     October   0.120\n10   November   0.200\n11   December   0.100"
                    },
                    "execution_count": 61,
                    "metadata": {},
                    "output_type": "execute_result"
                }
            ],
            "source": "body = client_45e1452aa04c45e4a6c774eae7e79e50.get_object(Bucket='application-donotdelete-pr-yxymcavya8mx0j',Key='month-claims.csv')['Body']\nif not hasattr(body, \"__iter__\"): body.__iter__ = types.MethodType( __iter__, body )\nclaims = pd.read_csv(body, sep=';')\nclaims"
        },
        {
            "cell_type": "code",
            "execution_count": 62,
            "metadata": {},
            "outputs": [],
            "source": "yearly_sales=1000000"
        },
        {
            "cell_type": "markdown",
            "metadata": {},
            "source": "## 2. Functions"
        },
        {
            "cell_type": "markdown",
            "metadata": {},
            "source": "### Customer database in December 2020"
        },
        {
            "cell_type": "code",
            "execution_count": 63,
            "metadata": {},
            "outputs": [
                {
                    "data": {
                        "text/html": "<div>\n<style scoped>\n    .dataframe tbody tr th:only-of-type {\n        vertical-align: middle;\n    }\n\n    .dataframe tbody tr th {\n        vertical-align: top;\n    }\n\n    .dataframe thead th {\n        text-align: right;\n    }\n</style>\n<table border=\"1\" class=\"dataframe\">\n  <thead>\n    <tr style=\"text-align: right;\">\n      <th></th>\n      <th>year</th>\n      <th>month</th>\n      <th>band</th>\n      <th>0</th>\n      <th>1</th>\n      <th>2</th>\n      <th>3</th>\n      <th>4</th>\n      <th>5</th>\n      <th>6</th>\n      <th>7</th>\n      <th>8</th>\n      <th>9</th>\n      <th>10</th>\n    </tr>\n  </thead>\n  <tbody>\n    <tr>\n      <th>202091</th>\n      <td>2,020.000</td>\n      <td>9.000</td>\n      <td>1.000</td>\n      <td>6,400.000</td>\n      <td>0.000</td>\n      <td>0.000</td>\n      <td>0.000</td>\n      <td>0.000</td>\n      <td>0.000</td>\n      <td>0.000</td>\n      <td>0.000</td>\n      <td>0.000</td>\n      <td>0.000</td>\n      <td>0.000</td>\n    </tr>\n    <tr>\n      <th>202092</th>\n      <td>2,020.000</td>\n      <td>9.000</td>\n      <td>2.000</td>\n      <td>14,400.000</td>\n      <td>0.000</td>\n      <td>0.000</td>\n      <td>0.000</td>\n      <td>0.000</td>\n      <td>0.000</td>\n      <td>0.000</td>\n      <td>0.000</td>\n      <td>0.000</td>\n      <td>0.000</td>\n      <td>0.000</td>\n    </tr>\n    <tr>\n      <th>202093</th>\n      <td>2,020.000</td>\n      <td>9.000</td>\n      <td>3.000</td>\n      <td>27,200.000</td>\n      <td>0.000</td>\n      <td>0.000</td>\n      <td>0.000</td>\n      <td>0.000</td>\n      <td>0.000</td>\n      <td>0.000</td>\n      <td>0.000</td>\n      <td>0.000</td>\n      <td>0.000</td>\n      <td>0.000</td>\n    </tr>\n    <tr>\n      <th>202094</th>\n      <td>2,020.000</td>\n      <td>9.000</td>\n      <td>4.000</td>\n      <td>20,800.000</td>\n      <td>0.000</td>\n      <td>0.000</td>\n      <td>0.000</td>\n      <td>0.000</td>\n      <td>0.000</td>\n      <td>0.000</td>\n      <td>0.000</td>\n      <td>0.000</td>\n      <td>0.000</td>\n      <td>0.000</td>\n    </tr>\n    <tr>\n      <th>202095</th>\n      <td>2,020.000</td>\n      <td>9.000</td>\n      <td>5.000</td>\n      <td>11,200.000</td>\n      <td>0.000</td>\n      <td>0.000</td>\n      <td>0.000</td>\n      <td>0.000</td>\n      <td>0.000</td>\n      <td>0.000</td>\n      <td>0.000</td>\n      <td>0.000</td>\n      <td>0.000</td>\n      <td>0.000</td>\n    </tr>\n  </tbody>\n</table>\n</div>",
                        "text/plain": "            year  month  band          0     1     2     3     4     5     6  \\\n202091 2,020.000  9.000 1.000  6,400.000 0.000 0.000 0.000 0.000 0.000 0.000   \n202092 2,020.000  9.000 2.000 14,400.000 0.000 0.000 0.000 0.000 0.000 0.000   \n202093 2,020.000  9.000 3.000 27,200.000 0.000 0.000 0.000 0.000 0.000 0.000   \n202094 2,020.000  9.000 4.000 20,800.000 0.000 0.000 0.000 0.000 0.000 0.000   \n202095 2,020.000  9.000 5.000 11,200.000 0.000 0.000 0.000 0.000 0.000 0.000   \n\n           7     8     9    10  \n202091 0.000 0.000 0.000 0.000  \n202092 0.000 0.000 0.000 0.000  \n202093 0.000 0.000 0.000 0.000  \n202094 0.000 0.000 0.000 0.000  \n202095 0.000 0.000 0.000 0.000  "
                    },
                    "execution_count": 63,
                    "metadata": {},
                    "output_type": "execute_result"
                }
            ],
            "source": "# 'year' and 'month' correspond to when customers bought the policy\n# 'band' corresponds to claim frequency (1 for Very High to 5 for Very Low)\n# '0' to '10' show customer headcount per NCD level\n\ncustomers_2020=pd.DataFrame()\ncustomers_2020=pd.DataFrame(columns=['year', 'month', 'band', 0, 1, 2, 3, 4, 5, 6, 7, 8, 9, 10])\nfor j in range (9, 13):\n    for i in range (1, 6):\n        index='2020'+str(j)+str(i)\n        customers_2020.loc[index]=[2020, j, i, yearly_sales*band.iloc[i-1,2]*sales.iloc[j-1,1],0,0,0,0,0,0,0,0,0,0]\ncustomers_2020.head()"
        },
        {
            "cell_type": "markdown",
            "metadata": {},
            "source": "### NCD transition matrix (yearly)"
        },
        {
            "cell_type": "code",
            "execution_count": 64,
            "metadata": {},
            "outputs": [],
            "source": "# transition matrix based on Markov chains using NCD scale rules, Poisson distribution and loss probability\n\ndef matrix(band_number):\n    # retrieves claim frequency based on band number\n    freq=band.iloc[band_number-1,1]\n    # builds transition matrix\n    matrix=np.mat(np.zeros((11,11)))\n    matrix[0,0]=(1-np.exp(-freq))\n    for j in range(1,4):\n        matrix[j,0]=matrix[j-1,0]-np.exp(-freq)*freq**(j)/np.math.factorial(j)\n    for j in range(0,10):    \n        matrix[0+j,1+j]=np.exp(-freq)*(freq**0)/np.math.factorial(0)\n    for j in range(0,9):    \n        matrix[1+j,1+j]=np.exp(-freq)*(freq**1)/np.math.factorial(1)\n    for j in range(0,9):    \n        matrix[2+j,1+j]=np.exp(-freq)*(freq**2)/np.math.factorial(2)\n    for j in range(0,8):    \n        matrix[3+j,1+j]=np.exp(-freq)*(freq**3)/np.math.factorial(3)\n    for j in range(0,7):    \n        matrix[4+j,1+j]=1-np.exp(-freq)*(1+freq+(freq**2)/np.math.factorial(2)+(freq**3)/np.math.factorial(3))  \n    matrix[10,10]=np.exp(-freq)*(1+freq)\n    # applies loss probability based on new NCD level\n    for i in range(0,11):\n        for j in range(0,11):\n            matrix[i,j]=matrix[i,j]*(1-loss.iloc[j,1])\n    return(matrix)"
        },
        {
            "cell_type": "markdown",
            "metadata": {},
            "source": "### Customer database in December of given year"
        },
        {
            "cell_type": "code",
            "execution_count": 65,
            "metadata": {},
            "outputs": [],
            "source": "def customers(year):\n    customers=customers_2020.copy()\n    # creates new rows for sales after December 2020\n    for y in range(2021,year+1):\n        for j in range (1, 13):\n            for i in range (1, 6):\n                index=str(y)+str(j)+str(i)\n                customers.loc[index]=[y, j, i, yearly_sales*band.iloc[i-1,2]*sales.iloc[j-1,1],0,0,0,0,0,0,0,0,0,0]\n    # projects customers to end of current year\n    for i in customers.index:\n        list_old=customers.loc[i][3:]\n        vect_old=list_old.to_numpy()\n        vect_new=np.dot(vect_old,np.linalg.matrix_power(matrix(int(i[-1])),year-int(i[0:4])))\n        list_new=vect_new.tolist()\n        customers.loc[i][3:]=list_new[0]\n    return(customers)"
        },
        {
            "cell_type": "markdown",
            "metadata": {},
            "source": "### NCD distribution in December of given year"
        },
        {
            "cell_type": "code",
            "execution_count": 66,
            "metadata": {},
            "outputs": [],
            "source": "def ncd(year):\n    split=pd.DataFrame(np.zeros((12,2)),index=[0,1,2,3,4,5,6,7,8,9,10,'Total'],columns=['ncd_count', 'ncd_proportion'])\n    x=customers(year).copy()\n    # summarizes headcount based on NCD level\n    for i in range(0,11):\n        for j in x.index:\n            split.iloc[i,0]=split.iloc[i,0]+x.loc[j][int(i)]\n        split.iloc[11,0]=split.iloc[11,0]+split.iloc[i,0]\n    # calculates proportion for each NCD level\n    for i in range(0,11):\n        split.iloc[i,1]=split.iloc[i,0]/split.iloc[11,0]\n    split.iloc[11,1]=1\n    return(split)"
        },
        {
            "cell_type": "markdown",
            "metadata": {},
            "source": "### Claim frequency in December of given year"
        },
        {
            "cell_type": "code",
            "execution_count": 67,
            "metadata": {},
            "outputs": [],
            "source": "def freq(year):\n    freq=pd.DataFrame(np.zeros((5,2)), index=['Very High','High','Medium','Low','Very Low'],columns=['end_year','new_sales'])\n    total=0\n    y=customers(year).copy()\n    x=y.groupby(['band']).sum()\n    # determines distribution of claim frequency at end of year\n    for i in range(0,5):\n        freq.iloc[i,0]=x[range(0,11)].sum(axis=1).iloc[i]\n        total=total+freq.iloc[i,0]\n    # shows claim frequency distribution for new sales\n    for i in range(0,5):\n        freq.iloc[i,0]=freq.iloc[i,0]/total\n        freq.iloc[i,1]=band.iloc[i,2]\n    return(freq)"
        },
        {
            "cell_type": "markdown",
            "metadata": {},
            "source": "## 3. Exercise"
        },
        {
            "cell_type": "markdown",
            "metadata": {},
            "source": "### Question a"
        },
        {
            "cell_type": "code",
            "execution_count": 68,
            "metadata": {},
            "outputs": [
                {
                    "data": {
                        "text/html": "<div>\n<style scoped>\n    .dataframe tbody tr th:only-of-type {\n        vertical-align: middle;\n    }\n\n    .dataframe tbody tr th {\n        vertical-align: top;\n    }\n\n    .dataframe thead th {\n        text-align: right;\n    }\n</style>\n<table border=\"1\" class=\"dataframe\">\n  <thead>\n    <tr style=\"text-align: right;\">\n      <th></th>\n      <th>ncd_count</th>\n      <th>ncd_proportion</th>\n    </tr>\n  </thead>\n  <tbody>\n    <tr>\n      <th>0</th>\n      <td>1,045,146.774</td>\n      <td>0.804</td>\n    </tr>\n    <tr>\n      <th>1</th>\n      <td>254,518.437</td>\n      <td>0.196</td>\n    </tr>\n    <tr>\n      <th>2</th>\n      <td>0.000</td>\n      <td>0.000</td>\n    </tr>\n    <tr>\n      <th>3</th>\n      <td>0.000</td>\n      <td>0.000</td>\n    </tr>\n    <tr>\n      <th>4</th>\n      <td>0.000</td>\n      <td>0.000</td>\n    </tr>\n    <tr>\n      <th>5</th>\n      <td>0.000</td>\n      <td>0.000</td>\n    </tr>\n    <tr>\n      <th>6</th>\n      <td>0.000</td>\n      <td>0.000</td>\n    </tr>\n    <tr>\n      <th>7</th>\n      <td>0.000</td>\n      <td>0.000</td>\n    </tr>\n    <tr>\n      <th>8</th>\n      <td>0.000</td>\n      <td>0.000</td>\n    </tr>\n    <tr>\n      <th>9</th>\n      <td>0.000</td>\n      <td>0.000</td>\n    </tr>\n    <tr>\n      <th>10</th>\n      <td>0.000</td>\n      <td>0.000</td>\n    </tr>\n    <tr>\n      <th>Total</th>\n      <td>1,299,665.211</td>\n      <td>1.000</td>\n    </tr>\n  </tbody>\n</table>\n</div>",
                        "text/plain": "          ncd_count  ncd_proportion\n0     1,045,146.774           0.804\n1       254,518.437           0.196\n2             0.000           0.000\n3             0.000           0.000\n4             0.000           0.000\n5             0.000           0.000\n6             0.000           0.000\n7             0.000           0.000\n8             0.000           0.000\n9             0.000           0.000\n10            0.000           0.000\nTotal 1,299,665.211           1.000"
                    },
                    "execution_count": 68,
                    "metadata": {},
                    "output_type": "execute_result"
                }
            ],
            "source": "ncd(2021)"
        },
        {
            "cell_type": "markdown",
            "metadata": {},
            "source": "### Question b"
        },
        {
            "cell_type": "code",
            "execution_count": 69,
            "metadata": {},
            "outputs": [
                {
                    "data": {
                        "text/html": "<div>\n<style scoped>\n    .dataframe tbody tr th:only-of-type {\n        vertical-align: middle;\n    }\n\n    .dataframe tbody tr th {\n        vertical-align: top;\n    }\n\n    .dataframe thead th {\n        text-align: right;\n    }\n</style>\n<table border=\"1\" class=\"dataframe\">\n  <thead>\n    <tr style=\"text-align: right;\">\n      <th></th>\n      <th>ncd_count</th>\n      <th>ncd_proportion</th>\n    </tr>\n  </thead>\n  <tbody>\n    <tr>\n      <th>0</th>\n      <td>1,121,801.656</td>\n      <td>0.564</td>\n    </tr>\n    <tr>\n      <th>1</th>\n      <td>693,278.579</td>\n      <td>0.349</td>\n    </tr>\n    <tr>\n      <th>2</th>\n      <td>173,771.330</td>\n      <td>0.087</td>\n    </tr>\n    <tr>\n      <th>3</th>\n      <td>0.000</td>\n      <td>0.000</td>\n    </tr>\n    <tr>\n      <th>4</th>\n      <td>0.000</td>\n      <td>0.000</td>\n    </tr>\n    <tr>\n      <th>5</th>\n      <td>0.000</td>\n      <td>0.000</td>\n    </tr>\n    <tr>\n      <th>6</th>\n      <td>0.000</td>\n      <td>0.000</td>\n    </tr>\n    <tr>\n      <th>7</th>\n      <td>0.000</td>\n      <td>0.000</td>\n    </tr>\n    <tr>\n      <th>8</th>\n      <td>0.000</td>\n      <td>0.000</td>\n    </tr>\n    <tr>\n      <th>9</th>\n      <td>0.000</td>\n      <td>0.000</td>\n    </tr>\n    <tr>\n      <th>10</th>\n      <td>0.000</td>\n      <td>0.000</td>\n    </tr>\n    <tr>\n      <th>Total</th>\n      <td>1,988,851.566</td>\n      <td>1.000</td>\n    </tr>\n  </tbody>\n</table>\n</div>",
                        "text/plain": "          ncd_count  ncd_proportion\n0     1,121,801.656           0.564\n1       693,278.579           0.349\n2       173,771.330           0.087\n3             0.000           0.000\n4             0.000           0.000\n5             0.000           0.000\n6             0.000           0.000\n7             0.000           0.000\n8             0.000           0.000\n9             0.000           0.000\n10            0.000           0.000\nTotal 1,988,851.566           1.000"
                    },
                    "execution_count": 69,
                    "metadata": {},
                    "output_type": "execute_result"
                }
            ],
            "source": "ncd(2022)"
        },
        {
            "cell_type": "markdown",
            "metadata": {},
            "source": "### Question c"
        },
        {
            "cell_type": "markdown",
            "metadata": {},
            "source": "A subtle shift from higher to lower frequencies can be observed."
        },
        {
            "cell_type": "code",
            "execution_count": 70,
            "metadata": {},
            "outputs": [
                {
                    "data": {
                        "text/html": "<div>\n<style scoped>\n    .dataframe tbody tr th:only-of-type {\n        vertical-align: middle;\n    }\n\n    .dataframe tbody tr th {\n        vertical-align: top;\n    }\n\n    .dataframe thead th {\n        text-align: right;\n    }\n</style>\n<table border=\"1\" class=\"dataframe\">\n  <thead>\n    <tr style=\"text-align: right;\">\n      <th></th>\n      <th>end_year</th>\n      <th>new_sales</th>\n    </tr>\n  </thead>\n  <tbody>\n    <tr>\n      <th>Very High</th>\n      <td>0.074</td>\n      <td>0.080</td>\n    </tr>\n    <tr>\n      <th>High</th>\n      <td>0.175</td>\n      <td>0.180</td>\n    </tr>\n    <tr>\n      <th>Medium</th>\n      <td>0.339</td>\n      <td>0.340</td>\n    </tr>\n    <tr>\n      <th>Low</th>\n      <td>0.265</td>\n      <td>0.260</td>\n    </tr>\n    <tr>\n      <th>Very Low</th>\n      <td>0.148</td>\n      <td>0.140</td>\n    </tr>\n  </tbody>\n</table>\n</div>",
                        "text/plain": "           end_year  new_sales\nVery High     0.074      0.080\nHigh          0.175      0.180\nMedium        0.339      0.340\nLow           0.265      0.260\nVery Low      0.148      0.140"
                    },
                    "execution_count": 70,
                    "metadata": {},
                    "output_type": "execute_result"
                }
            ],
            "source": "freq(2029)"
        },
        {
            "cell_type": "markdown",
            "metadata": {},
            "source": "### Question d"
        },
        {
            "cell_type": "code",
            "execution_count": 71,
            "metadata": {},
            "outputs": [
                {
                    "name": "stdout",
                    "output_type": "stream",
                    "text": "December 2020 = 400,000 \nDecember 2029 = 106,746 \nRatio = 0.2669\n"
                }
            ],
            "source": "# number of 2020 customers left at the end of 2029\ny=customers(2029).copy()\nx=y[y['year']==2020].groupby(['year']).sum()\nfirst_2029=x[range(0,11)].sum(axis=1).iloc[0]\n\n# initial number of 2020 customers\nx=customers_2020[customers_2020['year']==2020].groupby(['year']).sum()\nfirst_2020=x[range(0,11)].sum(axis=1).iloc[0]\n\nprint('December 2020 = {:,.0f} \\nDecember 2029 = {:,.0f} \\nRatio = {:,.4f}'.format(first_2020, first_2029, first_2029/first_2020))"
        },
        {
            "cell_type": "markdown",
            "metadata": {},
            "source": "### Question e"
        },
        {
            "cell_type": "markdown",
            "metadata": {},
            "source": "As shown below, the NCD headcount and distribution do not seem to stabilise over time."
        },
        {
            "cell_type": "code",
            "execution_count": 72,
            "metadata": {},
            "outputs": [
                {
                    "data": {
                        "text/html": "<div>\n<style scoped>\n    .dataframe tbody tr th:only-of-type {\n        vertical-align: middle;\n    }\n\n    .dataframe tbody tr th {\n        vertical-align: top;\n    }\n\n    .dataframe thead th {\n        text-align: right;\n    }\n</style>\n<table border=\"1\" class=\"dataframe\">\n  <thead>\n    <tr style=\"text-align: right;\">\n      <th></th>\n      <th>ncd_count</th>\n      <th>ncd_proportion</th>\n    </tr>\n  </thead>\n  <tbody>\n    <tr>\n      <th>0</th>\n      <td>1,143,906.488</td>\n      <td>0.127</td>\n    </tr>\n    <tr>\n      <th>1</th>\n      <td>833,888.066</td>\n      <td>0.093</td>\n    </tr>\n    <tr>\n      <th>2</th>\n      <td>654,948.360</td>\n      <td>0.073</td>\n    </tr>\n    <tr>\n      <th>3</th>\n      <td>537,176.720</td>\n      <td>0.060</td>\n    </tr>\n    <tr>\n      <th>4</th>\n      <td>459,349.615</td>\n      <td>0.051</td>\n    </tr>\n    <tr>\n      <th>5</th>\n      <td>403,611.503</td>\n      <td>0.045</td>\n    </tr>\n    <tr>\n      <th>6</th>\n      <td>359,638.945</td>\n      <td>0.040</td>\n    </tr>\n    <tr>\n      <th>7</th>\n      <td>329,660.870</td>\n      <td>0.037</td>\n    </tr>\n    <tr>\n      <th>8</th>\n      <td>315,101.364</td>\n      <td>0.035</td>\n    </tr>\n    <tr>\n      <th>9</th>\n      <td>355,401.053</td>\n      <td>0.039</td>\n    </tr>\n    <tr>\n      <th>10</th>\n      <td>3,621,176.765</td>\n      <td>0.402</td>\n    </tr>\n    <tr>\n      <th>Total</th>\n      <td>9,013,859.748</td>\n      <td>1.000</td>\n    </tr>\n  </tbody>\n</table>\n</div>",
                        "text/plain": "          ncd_count  ncd_proportion\n0     1,143,906.488           0.127\n1       833,888.066           0.093\n2       654,948.360           0.073\n3       537,176.720           0.060\n4       459,349.615           0.051\n5       403,611.503           0.045\n6       359,638.945           0.040\n7       329,660.870           0.037\n8       315,101.364           0.035\n9       355,401.053           0.039\n10    3,621,176.765           0.402\nTotal 9,013,859.748           1.000"
                    },
                    "execution_count": 72,
                    "metadata": {},
                    "output_type": "execute_result"
                }
            ],
            "source": "ncd(2050)"
        },
        {
            "cell_type": "code",
            "execution_count": 73,
            "metadata": {},
            "outputs": [
                {
                    "data": {
                        "text/html": "<div>\n<style scoped>\n    .dataframe tbody tr th:only-of-type {\n        vertical-align: middle;\n    }\n\n    .dataframe tbody tr th {\n        vertical-align: top;\n    }\n\n    .dataframe thead th {\n        text-align: right;\n    }\n</style>\n<table border=\"1\" class=\"dataframe\">\n  <thead>\n    <tr style=\"text-align: right;\">\n      <th></th>\n      <th>ncd_count</th>\n      <th>ncd_proportion</th>\n    </tr>\n  </thead>\n  <tbody>\n    <tr>\n      <th>0</th>\n      <td>1,143,906.490</td>\n      <td>0.081</td>\n    </tr>\n    <tr>\n      <th>1</th>\n      <td>833,888.081</td>\n      <td>0.059</td>\n    </tr>\n    <tr>\n      <th>2</th>\n      <td>654,948.464</td>\n      <td>0.046</td>\n    </tr>\n    <tr>\n      <th>3</th>\n      <td>537,177.383</td>\n      <td>0.038</td>\n    </tr>\n    <tr>\n      <th>4</th>\n      <td>459,353.874</td>\n      <td>0.032</td>\n    </tr>\n    <tr>\n      <th>5</th>\n      <td>403,638.791</td>\n      <td>0.029</td>\n    </tr>\n    <tr>\n      <th>6</th>\n      <td>359,816.038</td>\n      <td>0.025</td>\n    </tr>\n    <tr>\n      <th>7</th>\n      <td>331,154.068</td>\n      <td>0.023</td>\n    </tr>\n    <tr>\n      <th>8</th>\n      <td>327,150.639</td>\n      <td>0.023</td>\n    </tr>\n    <tr>\n      <th>9</th>\n      <td>459,294.805</td>\n      <td>0.032</td>\n    </tr>\n    <tr>\n      <th>10</th>\n      <td>8,627,198.226</td>\n      <td>0.610</td>\n    </tr>\n    <tr>\n      <th>Total</th>\n      <td>14,137,526.859</td>\n      <td>1.000</td>\n    </tr>\n  </tbody>\n</table>\n</div>",
                        "text/plain": "           ncd_count  ncd_proportion\n0      1,143,906.490           0.081\n1        833,888.081           0.059\n2        654,948.464           0.046\n3        537,177.383           0.038\n4        459,353.874           0.032\n5        403,638.791           0.029\n6        359,816.038           0.025\n7        331,154.068           0.023\n8        327,150.639           0.023\n9        459,294.805           0.032\n10     8,627,198.226           0.610\nTotal 14,137,526.859           1.000"
                    },
                    "execution_count": 73,
                    "metadata": {},
                    "output_type": "execute_result"
                }
            ],
            "source": "ncd(2100)"
        }
    ],
    "metadata": {
        "kernelspec": {
            "display_name": "Python 3.6",
            "language": "python",
            "name": "python3"
        },
        "language_info": {
            "codemirror_mode": {
                "name": "ipython",
                "version": 3
            },
            "file_extension": ".py",
            "mimetype": "text/x-python",
            "name": "python",
            "nbconvert_exporter": "python",
            "pygments_lexer": "ipython3",
            "version": "3.6.9"
        }
    },
    "nbformat": 4,
    "nbformat_minor": 1
}